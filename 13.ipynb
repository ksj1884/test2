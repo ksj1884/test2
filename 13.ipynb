{
 "cells": [
  {
   "cell_type": "code",
   "execution_count": null,
   "metadata": {},
   "outputs": [],
   "source": [
    "class Circle:\n",
    "    def __init__(self, radius):\n",
    "        self.radius = radius\n",
    "    def calcPerimeter(self):\n",
    "        self.calcperimeter = 3.14*2*self.radius\n",
    "    def calcArea(self):\n",
    "        self.calcarea = 3.14*self.radius**2\n",
    "    def __str__(self):\n",
    "        msg = \"반지름: \"+str(self.radius) +\" 원의면적: \"+str(self.calcperimeter) +\" 원의 둘레: \"+str(self.calcarea)\n",
    "        return msg\n",
    "    \n",
    "myCircle = Circle(100)\n",
    "myCircle.calcPerimeter()\n",
    "myCircle.calcArea()\n",
    "print(myCircle)"
   ]
  }
 ],
 "metadata": {
  "kernelspec": {
   "display_name": "Python 3",
   "language": "python",
   "name": "python3"
  },
  "language_info": {
   "codemirror_mode": {
    "name": "ipython",
    "version": 3
   },
   "file_extension": ".py",
   "mimetype": "text/x-python",
   "name": "python",
   "nbconvert_exporter": "python",
   "pygments_lexer": "ipython3",
   "version": "3.7.6"
  }
 },
 "nbformat": 4,
 "nbformat_minor": 4
}
